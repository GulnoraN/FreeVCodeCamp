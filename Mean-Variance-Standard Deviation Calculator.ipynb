{
  "metadata": {
    "kernelspec": {
      "name": "python",
      "display_name": "Python (Pyodide)",
      "language": "python"
    },
    "language_info": {
      "codemirror_mode": {
        "name": "python",
        "version": 3
      },
      "file_extension": ".py",
      "mimetype": "text/x-python",
      "name": "python",
      "nbconvert_exporter": "python",
      "pygments_lexer": "ipython3",
      "version": "3.8"
    }
  },
  "nbformat_minor": 4,
  "nbformat": 4,
  "cells": [
    {
      "cell_type": "code",
      "source": "",
      "metadata": {
        "trusted": true
      },
      "outputs": [],
      "execution_count": null
    },
    {
      "cell_type": "code",
      "source": "import numpy as np ",
      "metadata": {
        "trusted": true
      },
      "outputs": [],
      "execution_count": 1
    },
    {
      "cell_type": "code",
      "source": "def calculate(numbers):\n    if len(numbers) != 9:\n        raise ValueError(\"List must contain nine numbers.\")\n    data = np.reshape(np.array(numbers), (3,3))\n    calculations = {}\n    calculations[\"mean\"] = [np.mean(data, axis = 0).tolist(), np.mean(data, axis=1).tolist(), np.mean(data.flatten()).tolist()]\n    calculations[\"variance\"] = [np.var(data, axis = 0).tolist(), np.var(data, axis=1).tolist(), np.var(data.flatten()).tolist()]\n    calculations[\"standart deviation\"] = [np.std(data, axis = 0).tolist(), np.std(data, axis=1).tolist(), np.std(data.flatten()).tolist()]\n    calculations[\"max\"] = [np.max(data, axis = 0).tolist(), np.max(data, axis=1).tolist(), np.max(data.flatten()).tolist()]\n    calculations[\"min\"] = [np.min(data, axis = 0).tolist(), np.min(data, axis=1).tolist(), np.min(data.flatten()).tolist()]\n    calculations[\"sum\"] = [np.sum(data, axis = 0).tolist(), np.sum(data, axis=1).tolist(), np.sum(data.flatten()).tolist()]\n    return calculations\n\n\n\n\n",
      "metadata": {
        "trusted": true
      },
      "outputs": [],
      "execution_count": 5
    },
    {
      "cell_type": "code",
      "source": "calculate([0,1,2,3,4,5,6,7,8])",
      "metadata": {
        "trusted": true
      },
      "outputs": [
        {
          "execution_count": 6,
          "output_type": "execute_result",
          "data": {
            "text/plain": "{'mean': [[3.0, 4.0, 5.0], [1.0, 4.0, 7.0], 4.0],\n 'variance': [[6.0, 6.0, 6.0],\n  [0.6666666666666666, 0.6666666666666666, 0.6666666666666666],\n  6.666666666666667],\n 'standart deviation': [[2.449489742783178,\n   2.449489742783178,\n   2.449489742783178],\n  [0.816496580927726, 0.816496580927726, 0.816496580927726],\n  2.581988897471611],\n 'max': [[6, 7, 8], [2, 5, 8], 8],\n 'min': [[0, 1, 2], [0, 3, 6], 0],\n 'sum': [[9, 12, 15], [3, 12, 21], 36]}"
          },
          "metadata": {}
        }
      ],
      "execution_count": 6
    },
    {
      "cell_type": "code",
      "source": "",
      "metadata": {
        "trusted": true
      },
      "outputs": [],
      "execution_count": null
    }
  ]
}